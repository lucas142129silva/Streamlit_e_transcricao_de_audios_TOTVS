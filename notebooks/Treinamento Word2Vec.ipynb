{
 "cells": [
  {
   "cell_type": "markdown",
   "id": "74555e87",
   "metadata": {},
   "source": [
    "<div style=\"color:#ed145b;font-family:inter;font-size:36px; text-align:center\"><b>Treinamento modelo Word2Vec</b></div>"
   ]
  },
  {
   "cell_type": "markdown",
   "id": "c6f0c42d",
   "metadata": {},
   "source": [
    "<div style=\"color:#ed145b;font-family:inter;font-size:32px\">Bibliotecas e dados</div>\n",
    "<hr style=\"background-color:#ed145b;height:4px\"></hr>"
   ]
  },
  {
   "cell_type": "code",
   "execution_count": 1,
   "id": "9dbc387e",
   "metadata": {},
   "outputs": [],
   "source": [
    "# Data manipulation\n",
    "import pandas as pd\n",
    "import numpy as np\n",
    "np.random.seed(2048)\n",
    "\n",
    "import warnings\n",
    "warnings.filterwarnings(\"ignore\")\n",
    "\n",
    "# NLP\n",
    "import spacy\n",
    "import unidecode\n",
    "\n",
    "# Modelo Word2Vec utilizado\n",
    "from gensim.models import Word2Vec\n",
    "from gensim.models import KeyedVectors\n",
    "\n",
    "# Modelo de sentimento genérico para comparação\n",
    "from vaderSentiment.vaderSentiment import SentimentIntensityAnalyzer\n",
    "\n",
    "\n",
    "# Sklearn\n",
    "from sklearn.model_selection import GridSearchCV\n",
    "from sklearn.model_selection import train_test_split\n",
    "from sklearn.linear_model import LogisticRegression\n",
    "from sklearn.metrics import classification_report\n",
    "from sklearn.ensemble import RandomForestClassifier\n",
    "from sklearn.tree import DecisionTreeClassifier\n",
    "from sklearn.svm import SVC\n",
    "from sklearn.neighbors import KNeighborsClassifier\n",
    "from sklearn.metrics import accuracy_score\n",
    "from sklearn.model_selection import StratifiedShuffleSplit\n",
    "from sklearn.model_selection import cross_val_score\n",
    "from sklearn.model_selection import GridSearchCV\n",
    "from sklearn.metrics import confusion_matrix, ConfusionMatrixDisplay\n",
    "\n",
    "# Plot dos resultados\n",
    "import matplotlib.pyplot as plt\n",
    "\n",
    "# Salvar modelo\n",
    "import pickle"
   ]
  },
  {
   "cell_type": "code",
   "execution_count": 2,
   "id": "baa6b16b",
   "metadata": {},
   "outputs": [],
   "source": [
    "# Tratamento das colunas dos áudios transcritos\n",
    "dados_treino = pd.read_csv(\"Analise_audios_transcritos.csv\")\n",
    "\n",
    "map_colunas = [\"Flg_lido\", \"Id\", \"Texto_AI\", \"Mediu_NPS\", \"Sentimento\", \"Nivel_sentimento\",\n",
    "              \"Area_critica\", \"Transcricao_manual\"]\n",
    "\n",
    "dados_treino.columns = map_colunas\n",
    "\n",
    "# Remover áudios com erro\n",
    "dados_treino = dados_treino[dados_treino[\"Flg_lido\"] == \"Sim\"]"
   ]
  },
  {
   "cell_type": "markdown",
   "id": "dafedda6",
   "metadata": {},
   "source": [
    "<div style=\"color:#ed145b;font-family:inter;font-size:32px\">Treinamento Word2Vec</div>\n",
    "<hr style=\"background-color:#ed145b;height:4px\"></hr>\n",
    "\n",
    "<ul style=\"color:black;font-family:inter;font-size:13px\">Para o treinamento, será utilizado o <b>modelo de Word2Vec</b> ao invés do modelo tradicional de Onehot encoder, pois:\n",
    "    <li>O modelo de Onehot Encoder cria um vetor de zeros inicial para com tamanho de todo o vocabulário distinto e preenche em 1 quando a frase possui a palavra. Deste modo, com o aumento de áudios, o vetor cresce, e o modelo fica menos eficiente ou demanda mais tempo para treinar</li>\n",
    "    <li>O modelo de Word2Vec, tanto o CBOW quanto Skipgrams, cria um vetor de tamanho fixo único de pesos para cada palavra, considerando seu contexto na frase, isso torna o modelo mais eficiente e inteligente.</li>\n",
    "</ul>"
   ]
  },
  {
   "cell_type": "code",
   "execution_count": 68,
   "id": "63f169e9",
   "metadata": {},
   "outputs": [],
   "source": [
    "def trata_textos(doc):\n",
    "    tokens_validos = list()\n",
    "    \n",
    "    for token in doc:\n",
    "        token_e_valido = not token.is_stop and token.is_alpha\n",
    "        # O Token deve ser alfabético e não ser uma Stop Word\n",
    "        if token_e_valido:\n",
    "            tokens_validos.append(token.text)\n",
    "\n",
    "    if len(tokens_validos) > 2:\n",
    "        return \" \".join(tokens_validos)"
   ]
  },
  {
   "cell_type": "code",
   "execution_count": 4,
   "id": "ffe2a643",
   "metadata": {},
   "outputs": [],
   "source": [
    "nlp = spacy.load(\"pt_core_news_sm\")"
   ]
  },
  {
   "cell_type": "code",
   "execution_count": 5,
   "id": "6b7730d9",
   "metadata": {},
   "outputs": [
    {
     "data": {
      "text/html": [
       "<div>\n",
       "<style scoped>\n",
       "    .dataframe tbody tr th:only-of-type {\n",
       "        vertical-align: middle;\n",
       "    }\n",
       "\n",
       "    .dataframe tbody tr th {\n",
       "        vertical-align: top;\n",
       "    }\n",
       "\n",
       "    .dataframe thead th {\n",
       "        text-align: right;\n",
       "    }\n",
       "</style>\n",
       "<table border=\"1\" class=\"dataframe\">\n",
       "  <thead>\n",
       "    <tr style=\"text-align: right;\">\n",
       "      <th></th>\n",
       "      <th>titulo</th>\n",
       "    </tr>\n",
       "  </thead>\n",
       "  <tbody>\n",
       "    <tr>\n",
       "      <th>0</th>\n",
       "      <td>candinávia natália dia dia natália beatriz tot...</td>\n",
       "    </tr>\n",
       "    <tr>\n",
       "      <th>1</th>\n",
       "      <td>oi dia falo pedro dia pedro chamo beatriz falo...</td>\n",
       "    </tr>\n",
       "    <tr>\n",
       "      <th>2</th>\n",
       "      <td>alô dia dia alô alô dia falo diogo teixeira di...</td>\n",
       "    </tr>\n",
       "    <tr>\n",
       "      <th>3</th>\n",
       "      <td>dp cláudio oi cláudio dia lilia totus oi ótimo...</td>\n",
       "    </tr>\n",
       "    <tr>\n",
       "      <th>4</th>\n",
       "      <td>alô alô alô alô alô alô alô alô alô alô alô al...</td>\n",
       "    </tr>\n",
       "  </tbody>\n",
       "</table>\n",
       "</div>"
      ],
      "text/plain": [
       "                                              titulo\n",
       "0  candinávia natália dia dia natália beatriz tot...\n",
       "1  oi dia falo pedro dia pedro chamo beatriz falo...\n",
       "2  alô dia dia alô alô dia falo diogo teixeira di...\n",
       "3  dp cláudio oi cláudio dia lilia totus oi ótimo...\n",
       "4  alô alô alô alô alô alô alô alô alô alô alô al..."
      ]
     },
     "execution_count": 5,
     "metadata": {},
     "output_type": "execute_result"
    }
   ],
   "source": [
    "# Tratamento dos textos: retirada de stopwords e caracteres não alfanuméricos\n",
    "textos_para_tratamentos = (titulos.lower() for titulos in dados_treino['Texto_AI'])\n",
    "textos_tratados = [trata_textos(doc) for doc in nlp.pipe(textos_para_tratamentos, \n",
    "                                                        batch_size = 1000, \n",
    "                                                        n_process = - 1)] \n",
    "\n",
    "ai_textos_tratados = pd.DataFrame({'titulo': textos_tratados})\n",
    "ai_textos_tratados.head()"
   ]
  },
  {
   "cell_type": "code",
   "execution_count": 6,
   "id": "15d2b9f8",
   "metadata": {},
   "outputs": [],
   "source": [
    "lista_lista_tokens = [texto.split(\" \") for texto in ai_textos_tratados.titulo]"
   ]
  },
  {
   "cell_type": "markdown",
   "id": "f48aea43",
   "metadata": {},
   "source": [
    "<div style=\"color:black;font-family:inter;font-size:20px\"><b>Treinamento Word2Vec - CBOW</b></div>\n",
    "<div style=\"color:black;font-family:inter;font-size:13px\">O modelo CBOW usa o contexto que a palavra está inserida para prever qual é a palavra escolhida, e deste modo, cria o vetor\n",
    "</div>"
   ]
  },
  {
   "cell_type": "code",
   "execution_count": 7,
   "id": "4ea8c5c0",
   "metadata": {},
   "outputs": [
    {
     "data": {
      "text/plain": [
       "(259752, 469410)"
      ]
     },
     "execution_count": 7,
     "metadata": {},
     "output_type": "execute_result"
    }
   ],
   "source": [
    "w2v_modelo = Word2Vec(sg = 0, # Não usará SkipGrams\n",
    "                      window = 2, # Quantas palavras irá considerar no contexto, palavras antes e depois do token\n",
    "                      vector_size = 300, # Tamanho do Vetor Fixo do Word2Vec\n",
    "                      min_count = 5, # Eliminar palavras raras, define o mínimo de vez que uma palavra aparece\n",
    "                      alpha = 0.03, # Learning Rate\n",
    "                      min_alpha = 0.007) # Decaimento da taxa de aprendizagem para encontrar o custo mínimo\n",
    "\n",
    "# Construir o vocabulário e treinamento do modelo\n",
    "w2v_modelo.build_vocab(lista_lista_tokens, progress_per = 5000)\n",
    "w2v_modelo.train(lista_lista_tokens, \n",
    "                 total_examples = w2v_modelo.corpus_count,\n",
    "                 epochs = 30)"
   ]
  },
  {
   "cell_type": "markdown",
   "id": "668dbc70",
   "metadata": {},
   "source": [
    "<div style=\"color:black;font-family:inter;font-size:20px\"><b>Treinamento Word2Vec - SkipGrams</b></div>\n",
    "<div style=\"color:black;font-family:inter;font-size:13px\">O modelo SkipGrams tenta prever o contexto a partir da palavra escolhida, e deste modo, cria o vetor\n",
    "</div>"
   ]
  },
  {
   "cell_type": "code",
   "execution_count": 8,
   "id": "cef3aaba",
   "metadata": {},
   "outputs": [
    {
     "data": {
      "text/plain": [
       "(259956, 469410)"
      ]
     },
     "execution_count": 8,
     "metadata": {},
     "output_type": "execute_result"
    }
   ],
   "source": [
    "w2v_modelo_sg = Word2Vec(sg = 1, # Usará SkipGrams\n",
    "                      window = 5, # Window maior para o modelo SkipGram\n",
    "                      vector_size = 300, # Tamanho do Vetor Fixo do Word2Vec\n",
    "                      min_count = 5, # Eliminar palavras raras, define o mínimo de vez que uma palavra aparece\n",
    "                      alpha = 0.03, # Learning Rate\n",
    "                      min_alpha = 0.007) # Decaimento da taxa de aprendizagem para encontrar o custo mínimo\n",
    "\n",
    "# Construir o vocabulário e treinamento do modelo\n",
    "w2v_modelo_sg.build_vocab(lista_lista_tokens, progress_per = 5000)\n",
    "w2v_modelo_sg.train(lista_lista_tokens, \n",
    "                 total_examples = w2v_modelo_sg.corpus_count,\n",
    "                 epochs = 30)"
   ]
  },
  {
   "cell_type": "markdown",
   "id": "d20f8a6e",
   "metadata": {},
   "source": [
    "<div style=\"color:black;font-family:inter;font-size:13px\">Com o modelo Word2Vec treinado nos dados, ele é capaz de compreender o contexto da palavra e trazer palavras mais parecidas semanticamente com uma palavra escolhida. No exemplo com a palavra \"simples\", em outros contextos pode simbolizar uma palavra negativa, por algo ser simples demais e que necessitaria de algo a mais, porém, no contexto de um sistema usado diariamente por várias áreas na empresa, a simplicidade, principalmente no uso, é importante, portanto, positiva.\n",
    "</div>"
   ]
  },
  {
   "cell_type": "code",
   "execution_count": 9,
   "id": "8bd78246",
   "metadata": {},
   "outputs": [
    {
     "data": {
      "text/plain": [
       "[('importante', 0.8744511604309082),\n",
       " ('percepção', 0.8039785623550415),\n",
       " ('método', 0.6844812631607056),\n",
       " ('preciso', 0.6707015633583069),\n",
       " ('rápido', 0.6596595644950867),\n",
       " ('ltda', 0.6381980776786804),\n",
       " ('monalisa', 0.6294657588005066),\n",
       " ('rômulo', 0.6048701405525208),\n",
       " ('cliente', 0.5989869832992554),\n",
       " ('perfeito', 0.5924549698829651)]"
      ]
     },
     "execution_count": 9,
     "metadata": {},
     "output_type": "execute_result"
    }
   ],
   "source": [
    "w2v_modelo_sg.wv.most_similar(\"simples\")"
   ]
  },
  {
   "cell_type": "code",
   "execution_count": 110,
   "id": "aa4360f3",
   "metadata": {},
   "outputs": [],
   "source": [
    "# Salvar modelo\n",
    "w2v_modelo.wv.save_word2vec_format('./Modelos Word2Vec/modelo_cbow.txt', binary = False)\n",
    "w2v_modelo_sg.wv.save_word2vec_format('./Modelos Word2Vec/modelo_skipgram.txt', binary = False)"
   ]
  },
  {
   "cell_type": "markdown",
   "id": "22e33afb",
   "metadata": {},
   "source": [
    "<div style=\"color:#ed145b;font-family:inter;font-size:32px\">Treinamento modelo de sentimento</div>\n",
    "<hr style=\"background-color:#ed145b;height:4px\"></hr>\n",
    "\n",
    "<ul style=\"color:black;font-family:inter;font-size:13px\">Com o vetor para cada texto transcrito, é possível usar classificadores para prever qual o sentimento predominante do texto, pode-se usar diversos modelos. Os modelos de classificação que serão comparadas são:\n",
    "    <li>Regressão logística</li>\n",
    "    <li>Árvore de decisão</li>\n",
    "    <li>RandomForest</li>\n",
    "    <li>SVC</li>\n",
    "    <li>KNN</li>\n",
    "</ul>"
   ]
  },
  {
   "cell_type": "code",
   "execution_count": 3,
   "id": "da1ecd56",
   "metadata": {},
   "outputs": [],
   "source": [
    "nlp = spacy.load('pt_core_news_sm', \n",
    "                 disable = ['paser', 'ner', 'tagger', 'textcat']\n",
    "                ) # Processos que não irão ser utilizados  "
   ]
  },
  {
   "cell_type": "code",
   "execution_count": 4,
   "id": "9a0af664",
   "metadata": {},
   "outputs": [
    {
     "data": {
      "text/plain": [
       "['espanha', 'país', 'lindo']"
      ]
     },
     "execution_count": 4,
     "metadata": {},
     "output_type": "execute_result"
    }
   ],
   "source": [
    "def tokenizador(texto):\n",
    "    doc = nlp(texto)\n",
    "    tokens_validos = list()\n",
    "    for token in doc:\n",
    "        token_e_valido = not token.is_stop and token.is_alpha # O Token deve ser alfabético e não ser uma Stop Word\n",
    "        if token_e_valido:\n",
    "            tokens_validos.append(token.text.lower())\n",
    "\n",
    "    return tokens_validos\n",
    "\n",
    "# Função de tokenização para retirar caracteres não alfanuméricos e stopwords e transformar em lista\n",
    "texto = \"Espanha 33 é um$$$% país %linDO\"\n",
    "tokens = tokenizador(texto)\n",
    "tokens"
   ]
  },
  {
   "cell_type": "code",
   "execution_count": 5,
   "id": "d4acadba",
   "metadata": {},
   "outputs": [],
   "source": [
    "def remover_acentos(texto):\n",
    "    return unidecode.unidecode(texto)"
   ]
  },
  {
   "cell_type": "code",
   "execution_count": 6,
   "id": "a07b70da",
   "metadata": {},
   "outputs": [],
   "source": [
    "# Carregar modelos a serem comparados\n",
    "w2v_modelo_cbow = KeyedVectors.load_word2vec_format('./Modelos Word2Vec/modelo_cbow.txt')\n",
    "w2v_modelo_sg = KeyedVectors.load_word2vec_format('./Modelos Word2Vec/modelo_skipgram.txt')"
   ]
  },
  {
   "cell_type": "code",
   "execution_count": 7,
   "id": "28a1498e",
   "metadata": {},
   "outputs": [],
   "source": [
    "def combinacao_vetores_soma(palavras, modelo): # Combinação de vetores da frase por soma\n",
    "    \"\"\"Com o modelo escolhido, transforma as palavras em vetores e soma a fim de encontrar o vetor do texto\"\"\"\n",
    "    \n",
    "    vetor_resultante = np.zeros(300) \n",
    "    # Vetor de 300 posições somente com zeros para ir somando\n",
    "\n",
    "    for token_alfanumerico in palavras:\n",
    "        try:\n",
    "            vetor_resultante += modelo.get_vector(token_alfanumerico)\n",
    "\n",
    "        except KeyError: \n",
    "            pass\n",
    "\n",
    "    return vetor_resultante"
   ]
  },
  {
   "cell_type": "code",
   "execution_count": 8,
   "id": "e4f70fd4",
   "metadata": {},
   "outputs": [],
   "source": [
    "def matriz_vetores(textos, modelo):\n",
    "    \"\"\"Função para criar o vetor para vários textos com determinado modelo\"\"\"\n",
    "    x = len(textos)\n",
    "    y = 300 # Tamanho do vetor Word2Vec\n",
    "\n",
    "    matriz = np.zeros((x, y))\n",
    "\n",
    "    for i in range(x):\n",
    "        palavras = tokenizador(textos.iloc[i])\n",
    "        matriz[i] = combinacao_vetores_soma(palavras, modelo)\n",
    "\n",
    "    return matriz"
   ]
  },
  {
   "cell_type": "markdown",
   "id": "0c8f22cf",
   "metadata": {},
   "source": [
    "<div style=\"color:black;font-family:inter;font-size:20px\"><b>Separação em treino e teste</b></div>\n",
    "<div style=\"color:black;font-family:inter;font-size:13px\">Para evitar viés, a separação entre treino e teste será estratificada pelo sentimento, garantindo que há amostra negativa / positiva em ambas amostras.\n",
    "</div>"
   ]
  },
  {
   "cell_type": "code",
   "execution_count": 9,
   "id": "dc81febc",
   "metadata": {},
   "outputs": [],
   "source": [
    "treino, teste = train_test_split(dados_treino, stratify=dados_treino[\"Sentimento\"], test_size=0.25, random_state=2048)"
   ]
  },
  {
   "cell_type": "code",
   "execution_count": 10,
   "id": "790dff78",
   "metadata": {},
   "outputs": [
    {
     "name": "stdout",
     "output_type": "stream",
     "text": [
      "(59, 300)\n",
      "(20, 300)\n"
     ]
    }
   ],
   "source": [
    "# Criar a matriz de vetores com o modelo CBOW\n",
    "matriz_vetores_treino_cbow = matriz_vetores(treino.Texto_AI, w2v_modelo_cbow)\n",
    "matriz_vetores_teste_cbow = matriz_vetores(teste.Texto_AI, w2v_modelo_cbow)\n",
    "\n",
    "print(matriz_vetores_treino_cbow.shape)\n",
    "print(matriz_vetores_teste_cbow.shape)"
   ]
  },
  {
   "cell_type": "code",
   "execution_count": 11,
   "id": "4652f909",
   "metadata": {},
   "outputs": [],
   "source": [
    "# Criar matriz de vetores com SkipGrams\n",
    "matriz_vetores_treino_sg = matriz_vetores(treino.Texto_AI, w2v_modelo_sg)\n",
    "matriz_vetores_teste_sg = matriz_vetores(teste.Texto_AI, w2v_modelo_sg)"
   ]
  },
  {
   "cell_type": "code",
   "execution_count": 12,
   "id": "1720d326",
   "metadata": {},
   "outputs": [],
   "source": [
    "# Listas para iterar e comparar\n",
    "classificadores = [LogisticRegression(), RandomForestClassifier(), DecisionTreeClassifier(), SVC(), KNeighborsClassifier()]\n",
    "modelos_w2v = [(\"CBOW\", w2v_modelo_cbow, matriz_vetores_treino_cbow, matriz_vetores_teste_cbow), \n",
    "               (\"SkipGrams\", w2v_modelo_sg ,matriz_vetores_treino_sg, matriz_vetores_teste_sg)]"
   ]
  },
  {
   "cell_type": "markdown",
   "id": "009e5d10",
   "metadata": {},
   "source": [
    "<div style=\"color:black;font-family:inter;font-size:20px\"><b>Comparação de classificadores</b></div>\n",
    "<div style=\"color:black;font-family:inter;font-size:13px\">Além dos modelos do Sklearn, será testado um modelo pré-treinado encontrado, o <b>vaderSentiment</b>.\n",
    "</div>"
   ]
  },
  {
   "cell_type": "code",
   "execution_count": 13,
   "id": "e4733ab2",
   "metadata": {},
   "outputs": [],
   "source": [
    "def comparar_modelos(classificador, modelo_w2v, x_treino, y_treino, x_teste, y_teste):\n",
    "    model = classificador\n",
    "    model.fit(x_treino, y_treino)\n",
    "    y_pred = model.predict(x_teste)\n",
    "    resultados = accuracy_score(y_teste, y_pred)\n",
    "\n",
    "    return model, resultados"
   ]
  },
  {
   "cell_type": "code",
   "execution_count": 14,
   "id": "c96cdb68",
   "metadata": {},
   "outputs": [],
   "source": [
    "# Iteração pelas combinações\n",
    "resultados_gerais = dict() \n",
    "\n",
    "for modelo_w2v in modelos_w2v:\n",
    "    for classificador in classificadores:\n",
    "        nome_classificador = str(classificador)[:-2]\n",
    "        result_modelo = comparar_modelos(classificador, modelo_w2v[1], \n",
    "                                         modelo_w2v[2], treino.Sentimento, \n",
    "                                         modelo_w2v[3], teste.Sentimento)\n",
    "        \n",
    "        resultados_gerais[modelo_w2v[0], nome_classificador, \"Modelo\"] = result_modelo[0]\n",
    "        resultados_gerais[modelo_w2v[0], nome_classificador, \"Acurácia\"] = result_modelo[1]"
   ]
  },
  {
   "cell_type": "code",
   "execution_count": 15,
   "id": "d270b226",
   "metadata": {},
   "outputs": [],
   "source": [
    "df_resultados = pd.DataFrame(resultados_gerais.items())\n",
    "\n",
    "df_resultados = pd.concat([df_resultados[0].astype(str).str[1:-1].str.split(\",\", expand=True),\n",
    "                          df_resultados[1]], axis=1)\n",
    "\n",
    "df_resultados.columns = [\"Modelo_W2v\", \"Classificador\", \"Modelo_Acuracia\", \"Metrica\"]"
   ]
  },
  {
   "cell_type": "markdown",
   "id": "e72b813e",
   "metadata": {},
   "source": [
    "<div style=\"color:black;font-family:inter;font-size:20px\"><b>Acurácia Vader</b></div>"
   ]
  },
  {
   "cell_type": "code",
   "execution_count": 47,
   "id": "cf894a8e",
   "metadata": {},
   "outputs": [],
   "source": [
    "sentiment = SentimentIntensityAnalyzer()"
   ]
  },
  {
   "cell_type": "code",
   "execution_count": 48,
   "id": "1becd7f5",
   "metadata": {},
   "outputs": [],
   "source": [
    "# tratamento dos dados para Vader\n",
    "dados_treino[\"Tokens\"] = dados_treino[\"Texto_AI\"].apply(remover_acentos).apply(tokenizador)\n",
    "dados_treino[\"texto_vader\"] = dados_treino[\"Tokens\"].str.join(\" \")"
   ]
  },
  {
   "cell_type": "code",
   "execution_count": 49,
   "id": "cd08f143",
   "metadata": {},
   "outputs": [],
   "source": [
    "resultados_sentimento_vader = pd.DataFrame([])\n",
    "for idx, row in dados_treino.iterrows():\n",
    "    # Usando função polarity scores para pegar o sentimento do texto sem stop words\n",
    "    result_sentiment = sentiment.polarity_scores(row[\"texto_vader\"])\n",
    "\n",
    "    resultado = pd.DataFrame(result_sentiment, index=[idx])\n",
    "    resultados_sentimento_vader = pd.concat([resultados_sentimento_vader, resultado])\n",
    "\n",
    "# Resultados do vader, ele prevê o nível de cada sentimento, portanto, pega-se o maior valor\n",
    "resultados_sentimento_vader[\"resultado_vader\"] = resultados_sentimento_vader[[\"neg\", \"neu\", \"pos\"]].idxmax(axis=1)\n",
    "resultados_sentimento_vader[\"resultado_vader\"] = resultados_sentimento_vader[\"resultado_vader\"].map(\n",
    "    {\"neu\":'Neutro', \"neg\":\"Negativo\", \"pos\":\"Positivo\"}\n",
    ")"
   ]
  },
  {
   "cell_type": "code",
   "execution_count": 50,
   "id": "a3daf8f8",
   "metadata": {},
   "outputs": [
    {
     "name": "stdout",
     "output_type": "stream",
     "text": [
      "Resultado Vader: 0.40\n"
     ]
    }
   ],
   "source": [
    "dados_treino = dados_treino.join(resultados_sentimento_vader)\n",
    "dados_treino[\"acerto_vader\"] = (dados_treino[\"resultado_vader\"] == dados_treino[\"Sentimento\"]).astype(int)\n",
    "\n",
    "acuracia_vader = dados_treino[dados_treino.index.isin(teste.index)][\"acerto_vader\"].mean()\n",
    "# Resultado Vader nos dados usados para teste em outros classificadores\n",
    "print(\"Resultado Vader: %.2f\" % acuracia_vader)"
   ]
  },
  {
   "cell_type": "markdown",
   "id": "c6cf468d",
   "metadata": {},
   "source": [
    "<div style=\"color:#ed145b;font-family:inter;font-size:32px\">Comparação classificadores</div>\n",
    "<hr style=\"background-color:#ed145b;height:4px\"></hr>"
   ]
  },
  {
   "cell_type": "code",
   "execution_count": 16,
   "id": "16e87441",
   "metadata": {},
   "outputs": [
    {
     "data": {
      "text/html": [
       "<div>\n",
       "<style scoped>\n",
       "    .dataframe tbody tr th:only-of-type {\n",
       "        vertical-align: middle;\n",
       "    }\n",
       "\n",
       "    .dataframe tbody tr th {\n",
       "        vertical-align: top;\n",
       "    }\n",
       "\n",
       "    .dataframe thead tr th {\n",
       "        text-align: left;\n",
       "    }\n",
       "\n",
       "    .dataframe thead tr:last-of-type th {\n",
       "        text-align: right;\n",
       "    }\n",
       "</style>\n",
       "<table border=\"1\" class=\"dataframe\">\n",
       "  <thead>\n",
       "    <tr>\n",
       "      <th></th>\n",
       "      <th colspan=\"5\" halign=\"left\">Metrica</th>\n",
       "    </tr>\n",
       "    <tr>\n",
       "      <th>Classificador</th>\n",
       "      <th>'DecisionTreeClassifier'</th>\n",
       "      <th>'KNeighborsClassifier'</th>\n",
       "      <th>'LogisticRegression'</th>\n",
       "      <th>'RandomForestClassifier'</th>\n",
       "      <th>'SVC'</th>\n",
       "    </tr>\n",
       "    <tr>\n",
       "      <th>Modelo_W2v</th>\n",
       "      <th></th>\n",
       "      <th></th>\n",
       "      <th></th>\n",
       "      <th></th>\n",
       "      <th></th>\n",
       "    </tr>\n",
       "  </thead>\n",
       "  <tbody>\n",
       "    <tr>\n",
       "      <th>'CBOW'</th>\n",
       "      <td>0.8</td>\n",
       "      <td>0.9</td>\n",
       "      <td>0.65</td>\n",
       "      <td>0.8</td>\n",
       "      <td>0.9</td>\n",
       "    </tr>\n",
       "    <tr>\n",
       "      <th>'SkipGrams'</th>\n",
       "      <td>0.7</td>\n",
       "      <td>0.9</td>\n",
       "      <td>0.90</td>\n",
       "      <td>0.9</td>\n",
       "      <td>0.9</td>\n",
       "    </tr>\n",
       "  </tbody>\n",
       "</table>\n",
       "</div>"
      ],
      "text/plain": [
       "                                Metrica                          \\\n",
       "Classificador  'DecisionTreeClassifier'  'KNeighborsClassifier'   \n",
       "Modelo_W2v                                                        \n",
       "'CBOW'                              0.8                     0.9   \n",
       "'SkipGrams'                         0.7                     0.9   \n",
       "\n",
       "                                                                      \n",
       "Classificador  'LogisticRegression'  'RandomForestClassifier'  'SVC'  \n",
       "Modelo_W2v                                                            \n",
       "'CBOW'                         0.65                       0.8    0.9  \n",
       "'SkipGrams'                    0.90                       0.9    0.9  "
      ]
     },
     "execution_count": 16,
     "metadata": {},
     "output_type": "execute_result"
    }
   ],
   "source": [
    "acuracia_classificadores = df_resultados[df_resultados[\"Modelo_Acuracia\"].str.contains(\"Acurácia\")].copy()\n",
    "acuracia_classificadores.pivot_table(index=\"Modelo_W2v\", columns=\"Classificador\", fill_value=\"Metrica\")"
   ]
  },
  {
   "cell_type": "markdown",
   "id": "99aa125a",
   "metadata": {},
   "source": [
    "<table style=\"border: 1px solid; text-align:center\">\n",
    "    <thead style=\"background-color:#ed145b; border: 1px solid; font-size:14px\">\n",
    "        <tr>\n",
    "            <th style=\"border: 1px solid black; text-align: center; color:#ffffff\"><b>Modelo W2V</b></th>\n",
    "            <th style=\"border: 1px solid black; text-align: center; color:#ffffff\">Árvore de decisão</th>\n",
    "            <th style=\"border: 1px solid black; text-align: center; color:#ffffff\">KNN</th>\n",
    "            <th style=\"border: 1px solid black; text-align: center; color:#ffffff\">Regressão logística</th>\n",
    "            <th style=\"border: 1px solid black; text-align: center; color:#ffffff\">RandomForest</th>\n",
    "            <th style=\"border: 1px solid black; text-align: center; color:#ffffff\">SVC</th>\n",
    "            <th style=\"border: 1px solid black; text-align: center; color:#ffffff\">Vader</th>\n",
    "        </tr>\n",
    "    </thead>\n",
    "    <tbody>\n",
    "        <tr>\n",
    "            <td style=\"border: 1px solid black; text-align:center\">CBOW</td>\n",
    "            <td style=\"border: 1px solid; text-align:center\">80%</td>\n",
    "            <td style=\"border: 1px solid; text-align:center\">90%</td>\n",
    "            <td style=\"border: 1px solid; text-align:center\">65%</td>\n",
    "            <td style=\"border: 1px solid; text-align:center\">80%</td>\n",
    "            <td style=\"border: 1px solid; text-align:center\">90%</td>\n",
    "            <td rowspan=2 style=\"border: 1px solid; text-align:center\">40%</td>\n",
    "        </tr>\n",
    "        <tr>\n",
    "            <td style=\"border: 1px solid; text-align:center\">SkipGrams</td>\n",
    "            <td style=\"border: 1px solid; text-align:center\">70%</td>\n",
    "            <td style=\"border: 1px solid; text-align:center\">90%</td>\n",
    "            <td style=\"border: 1px solid; text-align:center\">90%</td>\n",
    "            <td style=\"border: 1px solid; text-align:center\">90%</td>\n",
    "            <td style=\"border: 1px solid; text-align:center\">90%</td>\n",
    "        </tr>\n",
    "    </tbody>\n",
    "</table>"
   ]
  },
  {
   "cell_type": "markdown",
   "id": "9c4d89c4",
   "metadata": {},
   "source": [
    "<div style=\"color:black;font-family:inter;font-size:20px\"><b>Output comparação</b></div>\n",
    "<div style=\"color:black;font-family:inter;font-size:13px\">De forma geral, o modelo SkipGrams atingiu uma melhor acurácia média nos classificadores, e os dois com maior acurácia foram <b>KNN</b> e <b>SVC</b>.\n",
    "</div>"
   ]
  },
  {
   "cell_type": "markdown",
   "id": "c89b763e",
   "metadata": {},
   "source": [
    "<div style=\"color:#ed145b;font-family:inter;font-size:32px\">Aprofundamento SVC e KNN</div>\n",
    "<hr style=\"background-color:#ed145b;height:4px\"></hr>\n",
    "\n",
    "<div style=\"color:black;font-family:inter;font-size:13px\">Será usado um método de cross validation com StratifiedKFold, que é um método que faz a separação entre treino e teste a cada iteração para validar realmente o modelo e evitar vieses, o StratifiedKfold é usado para toda vez que separar entre treino e teste estratificar a variável y, para evitar amostrar só com positivos ou só com negativos.\n",
    "</div>"
   ]
  },
  {
   "cell_type": "code",
   "execution_count": 17,
   "id": "493659d2",
   "metadata": {},
   "outputs": [],
   "source": [
    "# StratifiedKFold com 35 splits\n",
    "skf = StratifiedShuffleSplit(n_splits=35)\n",
    "\n",
    "cv_knn = cross_val_score(KNeighborsClassifier(), X=np.concatenate([matriz_vetores_treino_sg, matriz_vetores_teste_sg]),\n",
    "                       y=pd.concat([treino.Sentimento, teste.Sentimento]), cv=skf)\n",
    "\n",
    "cv_svc = cross_val_score(SVC(), X=np.concatenate([matriz_vetores_treino_sg, matriz_vetores_teste_sg]),\n",
    "               y=pd.concat([treino.Sentimento, teste.Sentimento]), cv=skf)"
   ]
  },
  {
   "cell_type": "code",
   "execution_count": 18,
   "id": "5b13009e",
   "metadata": {},
   "outputs": [
    {
     "name": "stdout",
     "output_type": "stream",
     "text": [
      "KNN: média de acurácia de 86.43% com desvio de 3.50%\n",
      "SVC: média de acurácia de 85.00% com desvio de 5.82%\n"
     ]
    }
   ],
   "source": [
    "print(\"KNN: média de acurácia de %.2f%% com desvio de %.2f%%\" % (cv_knn.mean() * 100, cv_knn.std() * 100))\n",
    "print(\"SVC: média de acurácia de %.2f%% com desvio de %.2f%%\" % (cv_svc.mean() * 100, cv_svc.std() * 100))"
   ]
  },
  {
   "cell_type": "markdown",
   "id": "9710726b",
   "metadata": {},
   "source": [
    "<div style=\"color:black;font-family:inter;font-size:13px\">Após o cross-validation, o modelo que se provou mais assertivo foi o KNN Classifier, com maior acurácia média e menor desvio\n",
    "</div>"
   ]
  },
  {
   "cell_type": "markdown",
   "id": "5aebf3de",
   "metadata": {},
   "source": [
    "<div style=\"color:#ed145b;font-family:inter;font-size:32px\">GridSearch KNN</div>\n",
    "<hr style=\"background-color:#ed145b;height:4px\"></hr>\n",
    "\n",
    "<div style=\"color:black;font-family:inter;font-size:13px\">A fim de encontrar os melhores hiperparâmetros para o modelo de KNN, será usado o GridSearchCV com cross validation. Ele itera o modelo com parâmetros definidos em um dicionário para encontrar e melhor combinação e otimizar o modelo.\n",
    "</div>"
   ]
  },
  {
   "cell_type": "code",
   "execution_count": 19,
   "id": "fc2336a1",
   "metadata": {},
   "outputs": [
    {
     "data": {
      "text/html": [
       "<style>#sk-container-id-1 {color: black;}#sk-container-id-1 pre{padding: 0;}#sk-container-id-1 div.sk-toggleable {background-color: white;}#sk-container-id-1 label.sk-toggleable__label {cursor: pointer;display: block;width: 100%;margin-bottom: 0;padding: 0.3em;box-sizing: border-box;text-align: center;}#sk-container-id-1 label.sk-toggleable__label-arrow:before {content: \"▸\";float: left;margin-right: 0.25em;color: #696969;}#sk-container-id-1 label.sk-toggleable__label-arrow:hover:before {color: black;}#sk-container-id-1 div.sk-estimator:hover label.sk-toggleable__label-arrow:before {color: black;}#sk-container-id-1 div.sk-toggleable__content {max-height: 0;max-width: 0;overflow: hidden;text-align: left;background-color: #f0f8ff;}#sk-container-id-1 div.sk-toggleable__content pre {margin: 0.2em;color: black;border-radius: 0.25em;background-color: #f0f8ff;}#sk-container-id-1 input.sk-toggleable__control:checked~div.sk-toggleable__content {max-height: 200px;max-width: 100%;overflow: auto;}#sk-container-id-1 input.sk-toggleable__control:checked~label.sk-toggleable__label-arrow:before {content: \"▾\";}#sk-container-id-1 div.sk-estimator input.sk-toggleable__control:checked~label.sk-toggleable__label {background-color: #d4ebff;}#sk-container-id-1 div.sk-label input.sk-toggleable__control:checked~label.sk-toggleable__label {background-color: #d4ebff;}#sk-container-id-1 input.sk-hidden--visually {border: 0;clip: rect(1px 1px 1px 1px);clip: rect(1px, 1px, 1px, 1px);height: 1px;margin: -1px;overflow: hidden;padding: 0;position: absolute;width: 1px;}#sk-container-id-1 div.sk-estimator {font-family: monospace;background-color: #f0f8ff;border: 1px dotted black;border-radius: 0.25em;box-sizing: border-box;margin-bottom: 0.5em;}#sk-container-id-1 div.sk-estimator:hover {background-color: #d4ebff;}#sk-container-id-1 div.sk-parallel-item::after {content: \"\";width: 100%;border-bottom: 1px solid gray;flex-grow: 1;}#sk-container-id-1 div.sk-label:hover label.sk-toggleable__label {background-color: #d4ebff;}#sk-container-id-1 div.sk-serial::before {content: \"\";position: absolute;border-left: 1px solid gray;box-sizing: border-box;top: 0;bottom: 0;left: 50%;z-index: 0;}#sk-container-id-1 div.sk-serial {display: flex;flex-direction: column;align-items: center;background-color: white;padding-right: 0.2em;padding-left: 0.2em;position: relative;}#sk-container-id-1 div.sk-item {position: relative;z-index: 1;}#sk-container-id-1 div.sk-parallel {display: flex;align-items: stretch;justify-content: center;background-color: white;position: relative;}#sk-container-id-1 div.sk-item::before, #sk-container-id-1 div.sk-parallel-item::before {content: \"\";position: absolute;border-left: 1px solid gray;box-sizing: border-box;top: 0;bottom: 0;left: 50%;z-index: -1;}#sk-container-id-1 div.sk-parallel-item {display: flex;flex-direction: column;z-index: 1;position: relative;background-color: white;}#sk-container-id-1 div.sk-parallel-item:first-child::after {align-self: flex-end;width: 50%;}#sk-container-id-1 div.sk-parallel-item:last-child::after {align-self: flex-start;width: 50%;}#sk-container-id-1 div.sk-parallel-item:only-child::after {width: 0;}#sk-container-id-1 div.sk-dashed-wrapped {border: 1px dashed gray;margin: 0 0.4em 0.5em 0.4em;box-sizing: border-box;padding-bottom: 0.4em;background-color: white;}#sk-container-id-1 div.sk-label label {font-family: monospace;font-weight: bold;display: inline-block;line-height: 1.2em;}#sk-container-id-1 div.sk-label-container {text-align: center;}#sk-container-id-1 div.sk-container {/* jupyter's `normalize.less` sets `[hidden] { display: none; }` but bootstrap.min.css set `[hidden] { display: none !important; }` so we also need the `!important` here to be able to override the default hidden behavior on the sphinx rendered scikit-learn.org. See: https://github.com/scikit-learn/scikit-learn/issues/21755 */display: inline-block !important;position: relative;}#sk-container-id-1 div.sk-text-repr-fallback {display: none;}</style><div id=\"sk-container-id-1\" class=\"sk-top-container\"><div class=\"sk-text-repr-fallback\"><pre>GridSearchCV(cv=StratifiedShuffleSplit(n_splits=5, random_state=None, test_size=None,\n",
       "            train_size=None),\n",
       "             estimator=KNeighborsClassifier(),\n",
       "             param_grid={&#x27;leaf_size&#x27;: [5, 10, 15, 20, 25, 30],\n",
       "                         &#x27;n_neighbors&#x27;: [1, 3, 5, 7, 9, 12, 15]})</pre><b>In a Jupyter environment, please rerun this cell to show the HTML representation or trust the notebook. <br />On GitHub, the HTML representation is unable to render, please try loading this page with nbviewer.org.</b></div><div class=\"sk-container\" hidden><div class=\"sk-item sk-dashed-wrapped\"><div class=\"sk-label-container\"><div class=\"sk-label sk-toggleable\"><input class=\"sk-toggleable__control sk-hidden--visually\" id=\"sk-estimator-id-1\" type=\"checkbox\" ><label for=\"sk-estimator-id-1\" class=\"sk-toggleable__label sk-toggleable__label-arrow\">GridSearchCV</label><div class=\"sk-toggleable__content\"><pre>GridSearchCV(cv=StratifiedShuffleSplit(n_splits=5, random_state=None, test_size=None,\n",
       "            train_size=None),\n",
       "             estimator=KNeighborsClassifier(),\n",
       "             param_grid={&#x27;leaf_size&#x27;: [5, 10, 15, 20, 25, 30],\n",
       "                         &#x27;n_neighbors&#x27;: [1, 3, 5, 7, 9, 12, 15]})</pre></div></div></div><div class=\"sk-parallel\"><div class=\"sk-parallel-item\"><div class=\"sk-item\"><div class=\"sk-label-container\"><div class=\"sk-label sk-toggleable\"><input class=\"sk-toggleable__control sk-hidden--visually\" id=\"sk-estimator-id-2\" type=\"checkbox\" ><label for=\"sk-estimator-id-2\" class=\"sk-toggleable__label sk-toggleable__label-arrow\">estimator: KNeighborsClassifier</label><div class=\"sk-toggleable__content\"><pre>KNeighborsClassifier()</pre></div></div></div><div class=\"sk-serial\"><div class=\"sk-item\"><div class=\"sk-estimator sk-toggleable\"><input class=\"sk-toggleable__control sk-hidden--visually\" id=\"sk-estimator-id-3\" type=\"checkbox\" ><label for=\"sk-estimator-id-3\" class=\"sk-toggleable__label sk-toggleable__label-arrow\">KNeighborsClassifier</label><div class=\"sk-toggleable__content\"><pre>KNeighborsClassifier()</pre></div></div></div></div></div></div></div></div></div></div>"
      ],
      "text/plain": [
       "GridSearchCV(cv=StratifiedShuffleSplit(n_splits=5, random_state=None, test_size=None,\n",
       "            train_size=None),\n",
       "             estimator=KNeighborsClassifier(),\n",
       "             param_grid={'leaf_size': [5, 10, 15, 20, 25, 30],\n",
       "                         'n_neighbors': [1, 3, 5, 7, 9, 12, 15]})"
      ]
     },
     "execution_count": 19,
     "metadata": {},
     "output_type": "execute_result"
    }
   ],
   "source": [
    "# Definição de hiperparâmetros para testar\n",
    "params = {\n",
    "    \"n_neighbors\":[1,3,5,7,9,12,15],\n",
    "    \"leaf_size\":[5,10,15,20,25,30]    \n",
    "}\n",
    "\n",
    "# StratifiedKFold com 5 splits\n",
    "skf = StratifiedShuffleSplit(n_splits=5)\n",
    "\n",
    "knn_grid = GridSearchCV(estimator=KNeighborsClassifier(), param_grid=params, cv=skf)\n",
    "knn_grid.fit(X = np.concatenate([matriz_vetores_treino_sg, matriz_vetores_teste_sg]),\n",
    "             y = pd.concat([treino.Sentimento, teste.Sentimento]))"
   ]
  },
  {
   "cell_type": "code",
   "execution_count": 20,
   "id": "25cc5c84",
   "metadata": {},
   "outputs": [
    {
     "name": "stdout",
     "output_type": "stream",
     "text": [
      "Melhores hiperparâmetros: {'leaf_size': 5, 'n_neighbors': 3}\n"
     ]
    }
   ],
   "source": [
    "print(\"Melhores hiperparâmetros:\", knn_grid.best_params_)\n",
    "knn_model = knn_grid.best_estimator_"
   ]
  },
  {
   "cell_type": "code",
   "execution_count": 21,
   "id": "dc78f819",
   "metadata": {},
   "outputs": [
    {
     "name": "stdout",
     "output_type": "stream",
     "text": [
      "KNN otimizado: média de acurácia de 85.71% com desvio de 6.08%\n"
     ]
    }
   ],
   "source": [
    "# StratifiedKFold com 35 splits\n",
    "skf = StratifiedShuffleSplit(n_splits=35)\n",
    "\n",
    "cv_knn_otimizado = cross_val_score(knn_model, X=np.concatenate([matriz_vetores_treino_sg, matriz_vetores_teste_sg]),\n",
    "                       y=pd.concat([treino.Sentimento, teste.Sentimento]), cv=skf)\n",
    "\n",
    "print(\"KNN otimizado: média de acurácia de %.2f%% com desvio de %.2f%%\" % (cv_knn_otimizado.mean() * 100, \n",
    "                                                                           cv_knn_otimizado.std() * 100))"
   ]
  },
  {
   "cell_type": "markdown",
   "id": "69cb6f03",
   "metadata": {},
   "source": [
    "<div style=\"color:black;font-family:inter;font-size:13px\">O modelo otimizado chegou em uma acurácia média de <b>87,5%</b>\n",
    "</div>"
   ]
  },
  {
   "cell_type": "markdown",
   "id": "6c312ae8",
   "metadata": {},
   "source": [
    "<div style=\"color:#ed145b;font-family:inter;font-size:32px\">Visualização do modelo</div>\n",
    "<hr style=\"background-color:#ed145b;height:4px\"></hr>"
   ]
  },
  {
   "cell_type": "code",
   "execution_count": 22,
   "id": "75650dba",
   "metadata": {},
   "outputs": [],
   "source": [
    "matrix = confusion_matrix(teste.Sentimento, knn_model.predict(matriz_vetores_teste_sg), \n",
    "                 labels=knn_model.classes_)"
   ]
  },
  {
   "cell_type": "code",
   "execution_count": 23,
   "id": "7074995a",
   "metadata": {},
   "outputs": [
    {
     "data": {
      "image/png": "[encoded data removed]",
      "text/plain": [
       "<Figure size 640x480 with 2 Axes>"
      ]
     },
     "metadata": {},
     "output_type": "display_data"
    }
   ],
   "source": [
    "disp = ConfusionMatrixDisplay(confusion_matrix=matrix,\n",
    "                              display_labels=knn_model.classes_)\n",
    "disp.plot()\n",
    "plt.show()"
   ]
  },
  {
   "cell_type": "markdown",
   "id": "1a3f05bc",
   "metadata": {},
   "source": [
    "<div style=\"color:#ed145b;font-family:inter;font-size:32px\">Conclusão</div>\n",
    "<hr style=\"background-color:#ed145b;height:4px\"></hr>"
   ]
  },
  {
   "cell_type": "markdown",
   "id": "af745251",
   "metadata": {},
   "source": [
    "<div style=\"color:black;font-family:inter;font-size:16px\">O modelo otimizado consegue distinguir positivo e neutro de forma assertiva. Com negativos, o modelo ainda se equivoca, mas conforme aumenta a quantidade de dados, o modelo vai melhorando seu fit com essa rotina de <b>treinamento, validação, comparação e otimização</b>.\n",
    "</div>"
   ]
  },
  {
   "cell_type": "code",
   "execution_count": 25,
   "id": "f85eb33a",
   "metadata": {},
   "outputs": [],
   "source": [
    "# Salvar modelo para reutilizar depois\n",
    "pickle.dump(knn_model, open(\"knn_otimizado.pkl\", 'wb'))"
   ]
  }
 ],
 "metadata": {
  "kernelspec": {
   "display_name": "Python 3 (ipykernel)",
   "language": "python",
   "name": "python3"
  },
  "language_info": {
   "codemirror_mode": {
    "name": "ipython",
    "version": 3
   },
   "file_extension": ".py",
   "mimetype": "text/x-python",
   "name": "python",
   "nbconvert_exporter": "python",
   "pygments_lexer": "ipython3",
   "version": "3.11.4"
  }
 },
 "nbformat": 4,
 "nbformat_minor": 5
}
